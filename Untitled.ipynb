{
 "cells": [
  {
   "cell_type": "code",
   "execution_count": 1,
   "id": "52959746",
   "metadata": {},
   "outputs": [
    {
     "name": "stderr",
     "output_type": "stream",
     "text": [
      "22/12/04 01:03:23 WARN NativeCodeLoader: Unable to load native-hadoop library for your platform... using builtin-java classes where applicable\n",
      "Using Spark's default log4j profile: org/apache/spark/log4j-defaults.properties\n",
      "Setting default log level to \"WARN\".\n",
      "To adjust logging level use sc.setLogLevel(newLevel). For SparkR, use setLogLevel(newLevel).\n"
     ]
    }
   ],
   "source": [
    "import pyspark\n",
    "from pyspark.sql import SparkSession\n",
    "\n",
    "spark = SparkSession.\\\n",
    "        builder.\\\n",
    "        appName(\"pyspark-notebook\").\\\n",
    "        master(\"spark://spark-master:7077\").\\\n",
    "        config(\"spark.executor.memory\", \"512m\").\\\n",
    "        getOrCreate()"
   ]
  },
  {
   "cell_type": "code",
   "execution_count": 51,
   "id": "9e05216e",
   "metadata": {},
   "outputs": [],
   "source": [
    "df = spark.read.options(header='true', inferschema='true', delimiter= \";\").csv(\"Compras-Compras.csv\")"
   ]
  },
  {
   "cell_type": "code",
   "execution_count": 52,
   "id": "d769d033",
   "metadata": {},
   "outputs": [
    {
     "name": "stdout",
     "output_type": "stream",
     "text": [
      "root\n",
      " |-- nome: string (nullable = true)\n",
      " |-- email: string (nullable = true)\n",
      " |-- genero: string (nullable = true)\n",
      " |-- endereco_ip: string (nullable = true)\n",
      " |-- produto: string (nullable = true)\n",
      " |-- quantidade: integer (nullable = true)\n",
      " |-- valor: integer (nullable = true)\n",
      " |-- moeda: string (nullable = true)\n",
      " |-- vendedor_nome: string (nullable = true)\n",
      " |-- hora: string (nullable = true)\n",
      " |-- data: string (nullable = true)\n",
      "\n"
     ]
    }
   ],
   "source": [
    "df.printSchema()"
   ]
  },
  {
   "cell_type": "code",
   "execution_count": 3,
   "id": "f40d9b39",
   "metadata": {},
   "outputs": [],
   "source": [
    "#result = df.groupby(\"nome\").count().orderBy(\"count\")"
   ]
  },
  {
   "cell_type": "code",
   "execution_count": 53,
   "id": "114bf75e",
   "metadata": {},
   "outputs": [],
   "source": [
    "from pyspark.sql.types import DateType\n",
    "\n",
    "df2 = df.withColumn(\"data\", to_date(to_timestamp(\"data\", \"M/d/yyyy\")))\n",
    "#df2 = df.withColumn(\"data\" ,to_date(to_timestamp(\"data\"),'MM/dd/yyyy')))"
   ]
  },
  {
   "cell_type": "code",
   "execution_count": 54,
   "id": "4b23e8c5",
   "metadata": {},
   "outputs": [
    {
     "name": "stdout",
     "output_type": "stream",
     "text": [
      "root\n",
      " |-- nome: string (nullable = true)\n",
      " |-- email: string (nullable = true)\n",
      " |-- genero: string (nullable = true)\n",
      " |-- endereco_ip: string (nullable = true)\n",
      " |-- produto: string (nullable = true)\n",
      " |-- quantidade: integer (nullable = true)\n",
      " |-- valor: integer (nullable = true)\n",
      " |-- moeda: string (nullable = true)\n",
      " |-- vendedor_nome: string (nullable = true)\n",
      " |-- hora: string (nullable = true)\n",
      " |-- data: date (nullable = true)\n",
      "\n"
     ]
    }
   ],
   "source": [
    "df2.printSchema()"
   ]
  },
  {
   "cell_type": "code",
   "execution_count": 55,
   "id": "5c95b95b",
   "metadata": {},
   "outputs": [],
   "source": [
    "#df2.registerTempTable(\"compras\")\n",
    "df2.createOrReplaceTempView(\"compras\")"
   ]
  },
  {
   "cell_type": "code",
   "execution_count": 56,
   "id": "ea05fa87",
   "metadata": {},
   "outputs": [
    {
     "name": "stdout",
     "output_type": "stream",
     "text": [
      "+---------------+---------------+\n",
      "|           nome|sum(quantidade)|\n",
      "+---------------+---------------+\n",
      "|Aguste Faichney|             10|\n",
      "|  Cynthea Revie|             60|\n",
      "|   Abie Natalie|             78|\n",
      "+---------------+---------------+\n",
      "only showing top 3 rows\n",
      "\n"
     ]
    }
   ],
   "source": [
    "spark.sql(\"select nome, SUM(quantidade) from compras group by nome \").show(3)"
   ]
  },
  {
   "cell_type": "code",
   "execution_count": 57,
   "id": "adcdcf23",
   "metadata": {},
   "outputs": [
    {
     "name": "stdout",
     "output_type": "stream",
     "text": [
      "+---------------+----------+---+----+\n",
      "|    endereco_ip|sum(valor)|mes| ano|\n",
      "+---------------+----------+---+----+\n",
      "| 172.228.164.14|        51| 12|2019|\n",
      "|  64.18.142.106|        38|  3|2020|\n",
      "| 167.86.149.194|        24|  8|2020|\n",
      "|  20.135.43.229|        68|  8|2020|\n",
      "| 162.111.80.142|        31|  1|2020|\n",
      "| 185.72.163.132|        12|  5|2020|\n",
      "|  19.66.221.250|        51|  5|2020|\n",
      "|  158.47.29.145|        94| 11|2019|\n",
      "| 98.143.143.162|        89| 11|2019|\n",
      "|239.179.219.234|        18|  6|2020|\n",
      "|  143.198.31.15|        46| 11|2019|\n",
      "| 16.219.140.228|        21|  3|2020|\n",
      "|  46.215.228.82|        91|  5|2020|\n",
      "|  136.234.28.69|        47|  7|2020|\n",
      "|  102.147.41.47|        62|  9|2020|\n",
      "|   94.66.125.97|        62|  9|2020|\n",
      "|  169.60.235.28|        51| 12|2019|\n",
      "| 65.196.208.228|        90|  9|2020|\n",
      "|251.126.159.135|         9|  3|2020|\n",
      "| 254.236.152.69|        33|  7|2020|\n",
      "+---------------+----------+---+----+\n",
      "only showing top 20 rows\n",
      "\n"
     ]
    }
   ],
   "source": [
    "spark.sql(\"select endereco_ip, sum(valor), month(data) as mes, year(data) as ano from compras group by endereco_ip, month(data), year(data) \").show()"
   ]
  },
  {
   "cell_type": "code",
   "execution_count": 58,
   "id": "53a8b6df",
   "metadata": {},
   "outputs": [
    {
     "name": "stdout",
     "output_type": "stream",
     "text": [
      "+----------+----+---+\n",
      "|      data| ano|mes|\n",
      "+----------+----+---+\n",
      "|2019-12-31|2019| 12|\n",
      "|2020-01-28|2020|  1|\n",
      "|2020-01-01|2020|  1|\n",
      "+----------+----+---+\n",
      "only showing top 3 rows\n",
      "\n"
     ]
    }
   ],
   "source": [
    "#df2.select(col(\"data\"),year(col(\"data\")).alias(\"ano\"), month(col(\"data\")).alias(\"mes\")).show(3)"
   ]
  },
  {
   "cell_type": "code",
   "execution_count": 60,
   "id": "3eb4651c",
   "metadata": {},
   "outputs": [
    {
     "name": "stderr",
     "output_type": "stream",
     "text": [
      "                                                                                \r"
     ]
    },
    {
     "name": "stdout",
     "output_type": "stream",
     "text": [
      "+-----------------+-----+\n",
      "|             nome|count|\n",
      "+-----------------+-----+\n",
      "|  Aguste Faichney|    1|\n",
      "|    Cynthea Revie|    1|\n",
      "|     Abie Natalie|    1|\n",
      "|  Cross Harmeston|    1|\n",
      "|Fredric Ronaldson|    1|\n",
      "|    Lacee Penrith|    1|\n",
      "|  Bettina Goodley|    1|\n",
      "|  Efrem Muldowney|    1|\n",
      "| Bronnie Tomasini|    1|\n",
      "| Giffard Cullnean|    1|\n",
      "|  Dolorita Dendon|    1|\n",
      "|    Kiah Cummings|    1|\n",
      "|      Sammy Sones|    1|\n",
      "| Olivier Cowtherd|    1|\n",
      "|  Teodorico Jeske|    1|\n",
      "|     Levon Collis|    1|\n",
      "| Joye Postlewhite|    1|\n",
      "|Martainn Banister|    1|\n",
      "|     Olivie Dykes|    1|\n",
      "|    Tandy Wimmers|    1|\n",
      "+-----------------+-----+\n",
      "only showing top 20 rows\n",
      "\n"
     ]
    }
   ],
   "source": [
    "df2.groupby(\"nome\").count().orderBy(\"count\").show()"
   ]
  },
  {
   "cell_type": "code",
   "execution_count": null,
   "id": "0366f8d5",
   "metadata": {},
   "outputs": [],
   "source": []
  }
 ],
 "metadata": {
  "kernelspec": {
   "display_name": "Python 3 (ipykernel)",
   "language": "python",
   "name": "python3"
  },
  "language_info": {
   "codemirror_mode": {
    "name": "ipython",
    "version": 3
   },
   "file_extension": ".py",
   "mimetype": "text/x-python",
   "name": "python",
   "nbconvert_exporter": "python",
   "pygments_lexer": "ipython3",
   "version": "3.9.2"
  }
 },
 "nbformat": 4,
 "nbformat_minor": 5
}
